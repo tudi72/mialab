{
 "cells": [
  {
   "cell_type": "code",
   "execution_count": 10,
   "metadata": {},
   "outputs": [],
   "source": [
    "import matplotlib\n",
    "# matplotlib.use('Agg')\n",
    "import matplotlib.pyplot as plt\n",
    "import pandas as pd\n",
    "import numpy as np\n",
    "import os"
   ]
  },
  {
   "cell_type": "markdown",
   "metadata": {},
   "source": [
    "# Experiment with Resampling "
   ]
  },
  {
   "cell_type": "code",
   "execution_count": null,
   "metadata": {},
   "outputs": [],
   "source": [
    "METRICS     =   ['DICE', 'HDRFDST', 'SSIM']\n",
    "LABELS      =   ['Amygdala', 'GreyMatter', 'Hippocampus', 'Thalamus', 'WhiteMatter']\n",
    "TITLE       =  f'Linear Resampling from 1.0 to 0.9'\n",
    "csv_file_method1 = f'../mia-result/2024-12-11-14-39-52 - (0.9,0.9,0.9)/results.csv'\n",
    "\n",
    "df_1 = pd.read_csv(csv_file_method1,delimiter=';')"
   ]
  },
  {
   "cell_type": "code",
   "execution_count": null,
   "metadata": {},
   "outputs": [
    {
     "name": "stdout",
     "output_type": "stream",
     "text": [
      "DICE_Linear_Resampling_from_1.0_to_0.9_20241211_163313.png\n",
      "HDRFDST_Linear_Resampling_from_1.0_to_0.9_20241211_163313.png\n",
      "SSIM_Linear_Resampling_from_1.0_to_0.9_20241211_163314.png\n"
     ]
    }
   ],
   "source": [
    "from plotting import boxplot_labels\n",
    "\n",
    "boxplot_labels(METRICS,LABELS,df_1,TITLE,output_path='../mia-result/boxplots')"
   ]
  },
  {
   "cell_type": "code",
   "execution_count": null,
   "metadata": {},
   "outputs": [],
   "source": []
  }
 ],
 "metadata": {
  "kernelspec": {
   "display_name": "Python 3",
   "language": "python",
   "name": "python3"
  },
  "language_info": {
   "codemirror_mode": {
    "name": "ipython",
    "version": 3
   },
   "file_extension": ".py",
   "mimetype": "text/x-python",
   "name": "python",
   "nbconvert_exporter": "python",
   "pygments_lexer": "ipython3",
   "version": "3.11.10"
  }
 },
 "nbformat": 4,
 "nbformat_minor": 2
}
