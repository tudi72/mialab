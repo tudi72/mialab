{
 "cells": [
  {
   "cell_type": "code",
   "execution_count": 36,
   "metadata": {},
   "outputs": [],
   "source": [
    "import matplotlib\n",
    "# matplotlib.use('Agg')\n",
    "import matplotlib.pyplot as plt\n",
    "import pandas as pd\n",
    "import numpy as np\n",
    "import os"
   ]
  },
  {
   "cell_type": "markdown",
   "metadata": {},
   "source": [
    "# Experiment with Resampling "
   ]
  },
  {
   "cell_type": "code",
   "execution_count": 37,
   "metadata": {},
   "outputs": [],
   "source": [
    "METRICS     =   ['DICE', 'HDRFDST', 'SSIM']\n",
    "LABELS      =   ['Amygdala', 'GreyMatter', 'Hippocampus', 'Thalamus', 'WhiteMatter']\n",
    "TITLE       =  f'Linear Resampling from 1.0 to 1.1'\n",
    "\n",
    "csv_file_method1 = f'../mia-result/2024-12-11-16-58-06 - resampling 1.1/results.csv'\n",
    "\n",
    "\n",
    "df_1 = pd.read_csv(csv_file_method1,delimiter=';')"
   ]
  },
  {
   "cell_type": "code",
   "execution_count": 38,
   "metadata": {},
   "outputs": [],
   "source": [
    "# from plotting import boxplot_labels\n",
    "\n",
    "# boxplot_labels(METRICS,LABELS,df_1,TITLE,output_path='../mia-result/boxplots/resampling_1.1')"
   ]
  },
  {
   "cell_type": "markdown",
   "metadata": {},
   "source": [
    "<h2> Evaluation between Experiments"
   ]
  },
  {
   "cell_type": "code",
   "execution_count": 39,
   "metadata": {},
   "outputs": [],
   "source": [
    "LABEL       = 'GreyMatter'\n",
    "TITLE       = f'Resampling vs Baseline for {LABEL}'\n",
    "METRIC      = 'SSIM'\n",
    "x_titles    = ['Baseline (1.0, 1.0, 1.0)','Resampling (1.1, 1.1, 1.1)', 'Resampling (1.2, 1.2, 1.2)']\n",
    "\n",
    "csv_file_method1 = f'../mia-result/2024-12-11-11-18-41-baseline/results.csv'\n",
    "csv_file_method2 = f'../mia-result/2024-12-11-16-58-06 - resampling 1.1/results.csv'\n",
    "csv_file_method3 = f'../mia-result/2024-12-11-17-42-01 - resampling 1.2/results.csv'\n",
    "\n",
    "df_1 = pd.read_csv(csv_file_method1,delimiter=';')\n",
    "df_2 = pd.read_csv(csv_file_method2,delimiter=';')\n",
    "df_3 = pd.read_csv(csv_file_method3,delimiter=';')\n",
    "\n",
    "data_1      =  df_1[df_1['LABEL'] == LABEL][METRIC].values\n",
    "data_2      =  df_2[df_2['LABEL'] == LABEL][METRIC].values\n",
    "data_3      =  df_3[df_3['LABEL'] == LABEL][METRIC].values\n",
    "data        =  [data_1, data_2, data_3]"
   ]
  },
  {
   "cell_type": "code",
   "execution_count": 40,
   "metadata": {},
   "outputs": [
    {
     "data": {
      "text/plain": [
       "[array([0.78057077, 0.78057088, 0.77540729, 0.77541052, 0.77074557,\n",
       "        0.77074438, 0.77841307, 0.77841736, 0.78086159, 0.78086397,\n",
       "        0.78082248, 0.78082096, 0.7781167 , 0.7781185 , 0.78532629,\n",
       "        0.78532699, 0.7885677 , 0.78856375, 0.7804374 , 0.78043549]),\n",
       " array([0.76545912, 0.76572581, 0.76110747, 0.76137384, 0.75630922,\n",
       "        0.75651266, 0.76389591, 0.76414381, 0.76529847, 0.76569663,\n",
       "        0.76558137, 0.76595085, 0.76329537, 0.76352666, 0.77031847,\n",
       "        0.77051078, 0.77421143, 0.77450616, 0.76594825, 0.76627456]),\n",
       " array([0.7559324 , 0.75619862, 0.75079924, 0.7511002 , 0.74604102,\n",
       "        0.74622242, 0.75423877, 0.75452827, 0.75553884, 0.7558381 ,\n",
       "        0.75621686, 0.75650623, 0.75360635, 0.75378959, 0.76148967,\n",
       "        0.76175466, 0.76436936, 0.76461749, 0.75645235, 0.75663178])]"
      ]
     },
     "execution_count": 40,
     "metadata": {},
     "output_type": "execute_result"
    }
   ],
   "source": [
    "data"
   ]
  },
  {
   "cell_type": "code",
   "execution_count": 41,
   "metadata": {},
   "outputs": [
    {
     "name": "stdout",
     "output_type": "stream",
     "text": [
      "SSIM_Resampling_vs_Baseline_for_GreyMatter_20241211_190233.png\n"
     ]
    }
   ],
   "source": [
    "from plotting import boxplot_experiment_comparison\n",
    "\n",
    "boxplot_experiment_comparison(data,METRIC,x_titles,TITLE,output_path='../mia-result/boxplots/resamplings')"
   ]
  }
 ],
 "metadata": {
  "kernelspec": {
   "display_name": "Python 3",
   "language": "python",
   "name": "python3"
  },
  "language_info": {
   "codemirror_mode": {
    "name": "ipython",
    "version": 3
   },
   "file_extension": ".py",
   "mimetype": "text/x-python",
   "name": "python",
   "nbconvert_exporter": "python",
   "pygments_lexer": "ipython3",
   "version": "3.11.10"
  }
 },
 "nbformat": 4,
 "nbformat_minor": 2
}
