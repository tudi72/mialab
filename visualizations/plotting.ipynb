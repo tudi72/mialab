{
 "cells": [
  {
   "cell_type": "code",
   "execution_count": 1,
   "metadata": {},
   "outputs": [],
   "source": [
    "import matplotlib\n",
    "# matplotlib.use('Agg')\n",
    "import matplotlib.pyplot as plt\n",
    "import pandas as pd\n",
    "import numpy as np\n",
    "import os"
   ]
  },
  {
   "cell_type": "markdown",
   "metadata": {},
   "source": [
    "# Experiment with Resampling "
   ]
  },
  {
   "cell_type": "code",
   "execution_count": 2,
   "metadata": {},
   "outputs": [],
   "source": [
    "# METRICS     =   ['DICE', 'HDRFDST', 'SSIM']\n",
    "# LABELS      =   ['Amygdala', 'GreyMatter', 'Hippocampus', 'Thalamus', 'WhiteMatter']\n",
    "# TITLE       =  f'Linear Resampling from 1.0 to 1.1'\n",
    "\n",
    "# csv_file_method1 = f'../mia-result/2024-12-11-17-42-01 - resampling 1.2/results.csv'\n",
    "\n",
    "\n",
    "# df_1 = pd.read_csv(csv_file_method1,delimiter=';')"
   ]
  },
  {
   "cell_type": "code",
   "execution_count": 3,
   "metadata": {},
   "outputs": [],
   "source": [
    "# from plotting import boxplot_labels\n",
    "\n",
    "# boxplot_labels(METRICS,LABELS,df_1,TITLE,output_path='../mia-result/boxplots/resamplings')"
   ]
  },
  {
   "cell_type": "markdown",
   "metadata": {},
   "source": [
    "<h2> Evaluation between Experiments"
   ]
  },
  {
   "cell_type": "code",
   "execution_count": 9,
   "metadata": {},
   "outputs": [],
   "source": [
    "LABEL       = 'WhiteMatter'\n",
    "TITLE       = f'Resampling vs Baseline for {LABEL}'\n",
    "# METRIC      = 'HDRFDST'\n",
    "METRIC      = 'DICE'\n",
    "x_titles    = ['Baseline (1.0, 1.0, 1.0)','Resampling (1.1, 1.1, 1.1)', 'Resampling (1.2, 1.2, 1.2)']\n",
    "\n",
    "csv_file_method1 = f'../mia-result/2024-12-11-11-18-41-baseline/results.csv'\n",
    "csv_file_method2 = f'../mia-result/2024-12-11-16-58-06 - resampling 1.1/results.csv'\n",
    "csv_file_method3 = f'../mia-result/2024-12-11-17-42-01 - resampling 1.2/results.csv'\n",
    "\n",
    "df_1 = pd.read_csv(csv_file_method1,delimiter=';')\n",
    "df_2 = pd.read_csv(csv_file_method2,delimiter=';')\n",
    "df_3 = pd.read_csv(csv_file_method3,delimiter=';')\n",
    "\n",
    "data_1      =  df_1[df_1['LABEL'] == LABEL][METRIC].values\n",
    "data_2      =  df_2[df_2['LABEL'] == LABEL][METRIC].values\n",
    "data_3      =  df_3[df_3['LABEL'] == LABEL][METRIC].values\n",
    "data        =  [data_1, data_2, data_3]"
   ]
  },
  {
   "cell_type": "markdown",
   "metadata": {},
   "source": [
    "<h2> Standardization for visualization "
   ]
  },
  {
   "cell_type": "code",
   "execution_count": 10,
   "metadata": {},
   "outputs": [
    {
     "data": {
      "text/plain": [
       "(3, 20)"
      ]
     },
     "execution_count": 10,
     "metadata": {},
     "output_type": "execute_result"
    }
   ],
   "source": [
    "data\n",
    "\n",
    "np.shape(data)"
   ]
  },
  {
   "cell_type": "code",
   "execution_count": 11,
   "metadata": {},
   "outputs": [
    {
     "name": "stdout",
     "output_type": "stream",
     "text": [
      "0.4376791400565177\n",
      "0.5135501815282743\n"
     ]
    },
    {
     "data": {
      "text/plain": [
       "(3, 20)"
      ]
     },
     "execution_count": 11,
     "metadata": {},
     "output_type": "execute_result"
    }
   ],
   "source": [
    "min = np.min(data)\n",
    "max = np.max(data) \n",
    "\n",
    "print(min)\n",
    "print(max)\n",
    "\n",
    "data[0]  = (data[0] - min) / (max - min)\n",
    "data[1]  = (data[1] - min) / (max - min)\n",
    "data[2]  = (data[2] - min) / (max - min)\n",
    "\n",
    "np.shape(data)"
   ]
  },
  {
   "cell_type": "code",
   "execution_count": 12,
   "metadata": {},
   "outputs": [
    {
     "data": {
      "text/plain": [
       "[array([0.59634498, 0.5824735 , 0.59113289, 0.57817636, 0.13882033,\n",
       "        0.12609356, 0.66915105, 0.65810026, 0.97373344, 0.96047869,\n",
       "        0.78141445, 0.76691871, 0.34313886, 0.32578955, 1.        ,\n",
       "        0.98204663, 0.85088677, 0.83855827, 0.18239273, 0.16939069]),\n",
       " array([0.53589454, 0.51080279, 0.54182503, 0.51549329, 0.07993172,\n",
       "        0.05509284, 0.5802614 , 0.5562636 , 0.91352862, 0.88600452,\n",
       "        0.74954278, 0.72062904, 0.27029133, 0.24258245, 0.94692416,\n",
       "        0.91536194, 0.7831637 , 0.75540246, 0.12882576, 0.10283741]),\n",
       " array([0.44879184, 0.42463707, 0.48586204, 0.46244267, 0.02136137,\n",
       "        0.        , 0.53706534, 0.51648918, 0.87190188, 0.84799772,\n",
       "        0.65269468, 0.62558253, 0.20286843, 0.17662999, 0.86316001,\n",
       "        0.83509576, 0.69448351, 0.66844816, 0.06716805, 0.04331038])]"
      ]
     },
     "execution_count": 12,
     "metadata": {},
     "output_type": "execute_result"
    }
   ],
   "source": [
    "data"
   ]
  },
  {
   "cell_type": "code",
   "execution_count": 13,
   "metadata": {},
   "outputs": [
    {
     "name": "stdout",
     "output_type": "stream",
     "text": [
      "DICE_Resampling_vs_Baseline_for_WhiteMatter_20241211_193400.png\n"
     ]
    }
   ],
   "source": [
    "from plotting import boxplot_experiment_comparison\n",
    "\n",
    "boxplot_experiment_comparison(data,METRIC,x_titles,TITLE,output_path='../mia-result/boxplots/resamplings')"
   ]
  }
 ],
 "metadata": {
  "kernelspec": {
   "display_name": "Python 3",
   "language": "python",
   "name": "python3"
  },
  "language_info": {
   "codemirror_mode": {
    "name": "ipython",
    "version": 3
   },
   "file_extension": ".py",
   "mimetype": "text/x-python",
   "name": "python",
   "nbconvert_exporter": "python",
   "pygments_lexer": "ipython3",
   "version": "3.11.10"
  }
 },
 "nbformat": 4,
 "nbformat_minor": 2
}
